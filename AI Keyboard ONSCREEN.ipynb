{
 "cells": [
  {
   "cell_type": "code",
   "execution_count": null,
   "id": "dbda700e",
   "metadata": {},
   "outputs": [],
   "source": []
  },
  {
   "cell_type": "code",
   "execution_count": null,
   "id": "734a5895",
   "metadata": {},
   "outputs": [
    {
     "name": "stderr",
     "output_type": "stream",
     "text": [
      "<>:90: SyntaxWarning: 'tuple' object is not callable; perhaps you missed a comma?\n",
      "<>:90: SyntaxWarning: 'tuple' object is not callable; perhaps you missed a comma?\n",
      "<ipython-input-1-025fa0283bff>:90: SyntaxWarning: 'tuple' object is not callable; perhaps you missed a comma?\n",
      "  cv2.rectangle(img, ( 50, 350),(700,450) (175 ,0 ,175), cv2.FILLED)\n"
     ]
    }
   ],
   "source": [
    "from cvzone.HandTrackingModule import HandDetector\n",
    "import cv2\n",
    "from time import sleep\n",
    "\n",
    "cap = cv2.VideoCapture(0)\n",
    "cap.set(3, 720)\n",
    "cap.set(4, 720)\n",
    "cv2.namedWindow(\"Window\")\n",
    "\n",
    "detector = HandDetector(detectionCon=0.8, maxHands=2)\n",
    "\n",
    "keys = [[\"Q\",\"W\",\"E\",\"R\",\"T\",\"Y\",\"U\",\"I\",\"O\",\"P\",\"[\",\"]\"],\n",
    "        [\"A\",\"S\",\"D\",\"F\",\"G\",\"H\",\"J\",\"K\",\"L\",\";\"],\n",
    "        [\"Z\",\"X\",\"C\",\"V\",\"B\",\"N\",\"M\",\",\",\".\",\"/\"]]\n",
    "finalText = \"\"\n",
    "\n",
    "def drawALL(img, buttonList):\n",
    "    for button in buttonList:\n",
    "        x , y = button.pos\n",
    "        w, h =button.size\n",
    "        cv2zone.cornerRect(img,x,y,w,h,rt=0)\n",
    "        cv2.rectangle(img , button.pos , (x + w, y + h), (255 ,0 ,255), cv2.FILLED)\n",
    "        cv2.putText(img,button.text,(x +20, y +65),\n",
    "                    cv2.FONT_HERSHEY_PLAIN,4,(255 ,255, 255),4)\n",
    "    return img\n",
    "\n",
    "class Button():\n",
    "    def __init__(self, pos, text , size=[85, 85]):\n",
    "            self.pos = pos\n",
    "            self.size = size\n",
    "            self.text = text \n",
    "          \n",
    "buttonList = []\n",
    "\n",
    "for i in range(len(keys)):\n",
    "    for j, key in enumerate(keys[i]):\n",
    "        buttonList.append(Button([100 * j + 50, 100 * i + 50], key))\n",
    "            \n",
    "    \n",
    "while True:\n",
    "    # Get image frame\n",
    "    success, img = cap.read()\n",
    "    # Find the hand and its landmarks\n",
    "    hands, img = detector.findHands(img)  # with draw\n",
    "    # hands = detector.findHands(img, draw=False)  # without draw\n",
    "\n",
    "    if hands:\n",
    "        # Hand 1\n",
    "        hand1 = hands[0]\n",
    "        lmList1 = hand1[\"lmList\"]  # List of 21 Landmark points\n",
    "        bbox1 = hand1[\"bbox\"]  # Bounding box info x,y,w,h\n",
    "        centerPoint1 = hand1['center']  # center of the hand cx,cy\n",
    "        handType1 = hand1[\"type\"]  # Handtype Left or Right\n",
    "\n",
    "        fingers1 = detector.fingersUp(hand1)\n",
    "\n",
    "        if len(hands) == 2:\n",
    "            # Hand 2\n",
    "            hand2 = hands[1]\n",
    "            lmList2 = hand2[\"lmList\"]  # List of 21 Landmark points\n",
    "            bbox2 = hand2[\"bbox\"]  # Bounding box info x,y,w,h\n",
    "            centerPoint2 = hand2['center']  # center of the hand cx,cy\n",
    "            handType2 = hand2[\"type\"]  # Hand Type \"Left\" or \"Right\"\n",
    "\n",
    "            fingers2 = detector.fingersUp(hand2)\n",
    "\n",
    "            # Find Distance between two Landmarks. Could be same hand or different hands\n",
    "            length, info, img = detector.findDistance(lmList1[8], lmList2[8], img)  # with draw\n",
    "        \n",
    "        img = drawALL(img , buttonList)\n",
    "        \n",
    "        if lmList1:\n",
    "            for button in buttonList:\n",
    "                x,y = button.pos\n",
    "                w,h = button.size\n",
    "                \n",
    "                if x < lmList[8][0]<x+w and y < lmList[8][1] <y + h:\n",
    "                    cv2.rectangle(img , button.pos , (x + w, y + h), (175 ,0 ,175), cv2.FILLED)\n",
    "                    cv2.putText(img,button.text,(x +20, y +65),\n",
    "                        cv2.FONT_HERSHEY_PLAIN,4,(255 ,255, 255),4)\n",
    "                    l, _, _= detector.findDistance(8,12,img, draw=False)\n",
    "                    \n",
    "                if l< 30:\n",
    "                    cv2.rectangle(img , button.pos , (x + w, y + h), (0 ,255 ,0), cv2.FILLED)\n",
    "                    cv2.putText(img,button.text,(x +20, y +65),\n",
    "                        cv2.FONT_HERSHEY_PLAIN,4,(255 ,255, 255),4)\n",
    "                    finalText += button.text\n",
    "                    sleep(0.15)\n",
    "                    \n",
    "        cv2.rectangle(img, ( 50, 350),(700,450) (175 ,0 ,175), cv2.FILLED)\n",
    "        cv2.putText(img , finalText , (60,430),\n",
    "                   cv2.FONT_HERSHEY_PLAIN,5,(255 ,255, 255),5)\n",
    "        cv2.imshow(\"Image\", img)\n",
    "        if cv2.waitKey(1) & 0xFF == ord('q'):\n",
    "            break\n",
    "cap.release()\n",
    "cv2.destroyAllWindows()\n",
    "       \n"
   ]
  },
  {
   "cell_type": "code",
   "execution_count": 2,
   "id": "c6584e59",
   "metadata": {},
   "outputs": [
    {
     "name": "stdout",
     "output_type": "stream",
     "text": [
      "Collecting python-time\n",
      "  Downloading python-time-0.3.0.tar.gz (2.6 kB)\n",
      "Collecting arrow\n",
      "  Downloading arrow-1.1.1-py3-none-any.whl (60 kB)\n",
      "Requirement already satisfied: python-dateutil>=2.7.0 in c:\\programdata\\anaconda4\\lib\\site-packages (from arrow->python-time) (2.8.1)\n",
      "Requirement already satisfied: six>=1.5 in c:\\programdata\\anaconda4\\lib\\site-packages (from python-dateutil>=2.7.0->arrow->python-time) (1.15.0)\n",
      "Building wheels for collected packages: python-time\n",
      "  Building wheel for python-time (setup.py): started\n",
      "  Building wheel for python-time (setup.py): finished with status 'done'\n",
      "  Created wheel for python-time: filename=python_time-0.3.0-py3-none-any.whl size=2778 sha256=9fd5f2d7fdb841c11a3a82cd6ed6a5c38e2bcd2ce7f697071a24b21eebef83d6\n",
      "  Stored in directory: c:\\users\\yameen\\appdata\\local\\pip\\cache\\wheels\\1d\\34\\24\\52a1f375e8d0eb2301fef542991035bd22b5fc645170a3ad8a\n",
      "Successfully built python-time\n",
      "Installing collected packages: arrow, python-time\n",
      "Successfully installed arrow-1.1.1 python-time-0.3.0\n",
      "Note: you may need to restart the kernel to use updated packages.\n"
     ]
    }
   ],
   "source": [
    "pip install python-time"
   ]
  },
  {
   "cell_type": "code",
   "execution_count": null,
   "id": "e10c5082",
   "metadata": {},
   "outputs": [],
   "source": []
  },
  {
   "cell_type": "code",
   "execution_count": null,
   "id": "13a32bba",
   "metadata": {},
   "outputs": [],
   "source": []
  }
 ],
 "metadata": {
  "kernelspec": {
   "display_name": "Python 3",
   "language": "python",
   "name": "python3"
  },
  "language_info": {
   "codemirror_mode": {
    "name": "ipython",
    "version": 3
   },
   "file_extension": ".py",
   "mimetype": "text/x-python",
   "name": "python",
   "nbconvert_exporter": "python",
   "pygments_lexer": "ipython3",
   "version": "3.8.8"
  }
 },
 "nbformat": 4,
 "nbformat_minor": 5
}
